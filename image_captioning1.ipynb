{
  "nbformat": 4,
  "nbformat_minor": 0,
  "metadata": {
    "colab": {
      "name": "image_captioning1.ipynb",
      "provenance": [],
      "collapsed_sections": [],
      "include_colab_link": true
    },
    "kernelspec": {
      "name": "python3",
      "display_name": "Python 3"
    },
    "accelerator": "GPU"
  },
  "cells": [
    {
      "cell_type": "markdown",
      "metadata": {
        "id": "view-in-github",
        "colab_type": "text"
      },
      "source": [
        "<a href=\"https://colab.research.google.com/github/Vikhyat-1820/image-captioning/blob/master/image_captioning1.ipynb\" target=\"_parent\"><img src=\"https://colab.research.google.com/assets/colab-badge.svg\" alt=\"Open In Colab\"/></a>"
      ]
    },
    {
      "cell_type": "code",
      "metadata": {
        "id": "QNw1ISkPI7aV",
        "colab_type": "code",
        "colab": {}
      },
      "source": [
        "import pandas as pd\n",
        "import matplotlib.pyplot as plt\n",
        "import numpy as np\n",
        "from keras.applications.vgg16 import VGG16\n",
        "from keras.applications.vgg16 import preprocess_input\n",
        "from keras.models import Model\n",
        "from keras.preprocessing import image\n",
        "from keras.preprocessing.sequence import pad_sequences\n",
        "import string\n",
        "from keras.utils import to_categorical\n",
        "from keras.layers import Input,Dropout,Dense,LSTM,Embedding\n",
        "from keras.layers.merge import add\n",
        "from keras.callbacks import ModelCheckpoint\n",
        "import os\n",
        "import pickle\n",
        "from keras.preprocessing.text import Tokenizer"
      ],
      "execution_count": 0,
      "outputs": []
    },
    {
      "cell_type": "code",
      "metadata": {
        "id": "lJvu098bJEVe",
        "colab_type": "code",
        "colab": {
          "base_uri": "https://localhost:8080/",
          "height": 34
        },
        "outputId": "98bf917c-cb2a-4652-ab78-853e63537370"
      },
      "source": [
        "from google.colab import drive\n",
        "drive.mount('/content/drive',force_remount=True)"
      ],
      "execution_count": 33,
      "outputs": [
        {
          "output_type": "stream",
          "text": [
            "Mounted at /content/drive\n"
          ],
          "name": "stdout"
        }
      ]
    },
    {
      "cell_type": "code",
      "metadata": {
        "id": "0QUBkuL3JJmh",
        "colab_type": "code",
        "colab": {}
      },
      "source": [
        "def extract_text(filename):\n",
        "  description=dict()\n",
        "  doc=open(filename,'r')\n",
        "  text=doc.read()\n",
        "  table = str.maketrans('', '', string.punctuation)\n",
        "  for line in text.split('\\n'):\n",
        "    word=line.split()\n",
        "    if len(word)<2:\n",
        "      continue\n",
        "    idx=word[0]\n",
        "    idx=idx.split('.')[0]\n",
        "    data=word[1:]\n",
        "    data = [w.translate(table) for w in data]\n",
        "    data=[d for d in data if len(d)>1]\n",
        "    data = [d for d in data if d.isalpha()]\n",
        "    desc='startseq ' +  ' '.join(data) + ' endseq'\n",
        "    if idx not in description:\n",
        "      description[idx]=list()\n",
        "    description[idx].append(desc)\n",
        "  return description"
      ],
      "execution_count": 0,
      "outputs": []
    },
    {
      "cell_type": "code",
      "metadata": {
        "id": "JNy73U6VJYNd",
        "colab_type": "code",
        "colab": {}
      },
      "source": [
        "description=extract_text('/content/drive/My Drive/Flickr8k.token.txt')"
      ],
      "execution_count": 0,
      "outputs": []
    },
    {
      "cell_type": "code",
      "metadata": {
        "id": "4F1ubtiVJazH",
        "colab_type": "code",
        "colab": {
          "base_uri": "https://localhost:8080/",
          "height": 125
        },
        "outputId": "16cbb176-c641-4dcd-a52a-998c6d24afe8"
      },
      "source": [
        "description['1000268201_693b08cb0e']"
      ],
      "execution_count": 36,
      "outputs": [
        {
          "output_type": "execute_result",
          "data": {
            "text/plain": [
              "['startseq child in pink dress is climbing up set of stairs in an entry way endseq',\n",
              " 'startseq girl going into wooden building endseq',\n",
              " 'startseq little girl climbing into wooden playhouse endseq',\n",
              " 'startseq little girl climbing the stairs to her playhouse endseq',\n",
              " 'startseq little girl in pink dress going into wooden cabin endseq']"
            ]
          },
          "metadata": {
            "tags": []
          },
          "execution_count": 36
        }
      ]
    },
    {
      "cell_type": "code",
      "metadata": {
        "id": "sCDEHrosJd_i",
        "colab_type": "code",
        "colab": {
          "base_uri": "https://localhost:8080/",
          "height": 950
        },
        "outputId": "4e743383-96fd-4e01-9bf0-25fcdd10ad13"
      },
      "source": [
        "vggmodel=VGG16()\n",
        "vggmodel.layers.pop()\n",
        "vggmodel=Model(inputs=vggmodel.inputs,outputs=vggmodel.layers[-1].output)\n",
        "print(vggmodel.summary())"
      ],
      "execution_count": 37,
      "outputs": [
        {
          "output_type": "stream",
          "text": [
            "Model: \"model_4\"\n",
            "_________________________________________________________________\n",
            "Layer (type)                 Output Shape              Param #   \n",
            "=================================================================\n",
            "input_4 (InputLayer)         (None, 224, 224, 3)       0         \n",
            "_________________________________________________________________\n",
            "block1_conv1 (Conv2D)        (None, 224, 224, 64)      1792      \n",
            "_________________________________________________________________\n",
            "block1_conv2 (Conv2D)        (None, 224, 224, 64)      36928     \n",
            "_________________________________________________________________\n",
            "block1_pool (MaxPooling2D)   (None, 112, 112, 64)      0         \n",
            "_________________________________________________________________\n",
            "block2_conv1 (Conv2D)        (None, 112, 112, 128)     73856     \n",
            "_________________________________________________________________\n",
            "block2_conv2 (Conv2D)        (None, 112, 112, 128)     147584    \n",
            "_________________________________________________________________\n",
            "block2_pool (MaxPooling2D)   (None, 56, 56, 128)       0         \n",
            "_________________________________________________________________\n",
            "block3_conv1 (Conv2D)        (None, 56, 56, 256)       295168    \n",
            "_________________________________________________________________\n",
            "block3_conv2 (Conv2D)        (None, 56, 56, 256)       590080    \n",
            "_________________________________________________________________\n",
            "block3_conv3 (Conv2D)        (None, 56, 56, 256)       590080    \n",
            "_________________________________________________________________\n",
            "block3_pool (MaxPooling2D)   (None, 28, 28, 256)       0         \n",
            "_________________________________________________________________\n",
            "block4_conv1 (Conv2D)        (None, 28, 28, 512)       1180160   \n",
            "_________________________________________________________________\n",
            "block4_conv2 (Conv2D)        (None, 28, 28, 512)       2359808   \n",
            "_________________________________________________________________\n",
            "block4_conv3 (Conv2D)        (None, 28, 28, 512)       2359808   \n",
            "_________________________________________________________________\n",
            "block4_pool (MaxPooling2D)   (None, 14, 14, 512)       0         \n",
            "_________________________________________________________________\n",
            "block5_conv1 (Conv2D)        (None, 14, 14, 512)       2359808   \n",
            "_________________________________________________________________\n",
            "block5_conv2 (Conv2D)        (None, 14, 14, 512)       2359808   \n",
            "_________________________________________________________________\n",
            "block5_conv3 (Conv2D)        (None, 14, 14, 512)       2359808   \n",
            "_________________________________________________________________\n",
            "block5_pool (MaxPooling2D)   (None, 7, 7, 512)         0         \n",
            "_________________________________________________________________\n",
            "flatten (Flatten)            (None, 25088)             0         \n",
            "_________________________________________________________________\n",
            "fc1 (Dense)                  (None, 4096)              102764544 \n",
            "_________________________________________________________________\n",
            "fc2 (Dense)                  (None, 4096)              16781312  \n",
            "=================================================================\n",
            "Total params: 134,260,544\n",
            "Trainable params: 134,260,544\n",
            "Non-trainable params: 0\n",
            "_________________________________________________________________\n",
            "None\n"
          ],
          "name": "stdout"
        }
      ]
    },
    {
      "cell_type": "code",
      "metadata": {
        "id": "vCKFhmnqJi1Y",
        "colab_type": "code",
        "colab": {}
      },
      "source": [
        "def feature_extractor(filename,vggmodel):\n",
        "  img=image.load_img(filename,target_size=(224,224))\n",
        "  img=image.img_to_array(img)\n",
        "  img=img.reshape((1,img.shape[0],img.shape[1],img.shape[2]))\n",
        "  img=preprocess_input(img)\n",
        "  features=vggmodel.predict(img)\n",
        "  return features\n",
        "\n",
        "def image_feature(filename,vggmodel):\n",
        "  features=dict()\n",
        "  for img in os.listdir(filename):\n",
        "    imgname=filename + '/' + img\n",
        "    img=img.split('.')[0]\n",
        "\n",
        "    features[img]=feature_extractor(imgname,vggmodel)\n",
        "  return features\n",
        "    \n"
      ],
      "execution_count": 0,
      "outputs": []
    },
    {
      "cell_type": "code",
      "metadata": {
        "id": "yT0PhPIpt9ge",
        "colab_type": "code",
        "colab": {}
      },
      "source": [
        ""
      ],
      "execution_count": 0,
      "outputs": []
    },
    {
      "cell_type": "code",
      "metadata": {
        "id": "brA6Wqy5KDjZ",
        "colab_type": "code",
        "colab": {}
      },
      "source": [
        "image_features=image_feature('/content/drive/My Drive/Flicker8k_Dataset',vggmodel)"
      ],
      "execution_count": 0,
      "outputs": []
    },
    {
      "cell_type": "code",
      "metadata": {
        "id": "aBEGJPh0dijS",
        "colab_type": "code",
        "colab": {
          "base_uri": "https://localhost:8080/",
          "height": 34
        },
        "outputId": "15b3ec39-0d2b-490e-b3f3-2692e5b26c24"
      },
      "source": [
        "len(image_features)"
      ],
      "execution_count": 40,
      "outputs": [
        {
          "output_type": "execute_result",
          "data": {
            "text/plain": [
              "8093"
            ]
          },
          "metadata": {
            "tags": []
          },
          "execution_count": 40
        }
      ]
    },
    {
      "cell_type": "code",
      "metadata": {
        "id": "8LlNa54hT0jR",
        "colab_type": "code",
        "colab": {}
      },
      "source": [
        "pickle.dump(image_features,open('image_features_VGG.pkl','wb'))"
      ],
      "execution_count": 0,
      "outputs": []
    },
    {
      "cell_type": "code",
      "metadata": {
        "id": "cGpdt4RpaI3H",
        "colab_type": "code",
        "colab": {}
      },
      "source": [
        "def trainimage_and_description(description,image_features,trainfilename,maxcount):\n",
        "  count=0\n",
        "  trainimage={}\n",
        "  traindescription={}\n",
        "  text=open(trainfilename,'r').read()\n",
        "  text=text.split()\n",
        "  for k in text:\n",
        "    k=k.split('.')[0]\n",
        "    if count>maxcount:\n",
        "      break\n",
        "    if k in image_features.keys():\n",
        "      count+=1\n",
        "      trainimage[k]=image_features[k]\n",
        "      traindescription[k]=description[k]\n",
        "  return trainimage,traindescription\n",
        "\n",
        "def valimage_and_description(description,image_features,valfilename,maxcount):\n",
        "  valimage={}\n",
        "  valdescription={}\n",
        "  count=0\n",
        "  text=open(valfilename,'r').read()\n",
        "  text=text.split()\n",
        "  for k in text:\n",
        "    if count>maxcount:\n",
        "      break\n",
        "    k=k.split('.')[0]\n",
        "    if k in image_features.keys():\n",
        "      count+=1\n",
        "      valimage[k]=image_features[k]\n",
        "      valdescription[k]=description[k]\n",
        "  return valimage,valdescription\n"
      ],
      "execution_count": 0,
      "outputs": []
    },
    {
      "cell_type": "code",
      "metadata": {
        "id": "EXtmZBTqKNOS",
        "colab_type": "code",
        "colab": {}
      },
      "source": [
        "#creating validation and train image\n",
        "valimage,valdescription=valimage_and_description(description,image_features,'/content/drive/My Drive/Flickr_8k.testImages.txt',300)\n",
        "trainimage,traindescription=trainimage_and_description(description,image_features,'/content/drive/My Drive/Flickr_8k.trainImages.txt',1200)"
      ],
      "execution_count": 0,
      "outputs": []
    },
    {
      "cell_type": "code",
      "metadata": {
        "id": "8WvEzqSVMLYZ",
        "colab_type": "code",
        "colab": {}
      },
      "source": [
        "def to_lines(description):\n",
        "  lines=list()\n",
        "  for key in description.keys():\n",
        "    [lines.append(d) for d in description[key]]\n",
        "  return lines\n",
        "\n",
        "def create_tokenizer(description):\n",
        "  lines=to_lines(description)\n",
        "  tokenizer=Tokenizer()\n",
        "  tokenizer.fit_on_texts(lines)\n",
        "  return tokenizer\n",
        "\n",
        "def maxlength(description):\n",
        "  lines=to_lines(description)\n",
        "  return max(len(d.split()) for d in lines) "
      ],
      "execution_count": 0,
      "outputs": []
    },
    {
      "cell_type": "code",
      "metadata": {
        "id": "xLSS858taCqJ",
        "colab_type": "code",
        "colab": {}
      },
      "source": [
        ""
      ],
      "execution_count": 0,
      "outputs": []
    },
    {
      "cell_type": "code",
      "metadata": {
        "id": "ne8JiO_sOKGp",
        "colab_type": "code",
        "colab": {}
      },
      "source": [
        "max_len=maxlength(description)\n",
        "tokenizer=create_tokenizer(description)\n",
        "vocab_size=len(tokenizer.word_index)+1\n",
        "def preprocess_dataset(description,image_features,max_len,tokenizer,vocab_size):\n",
        "  count=0\n",
        "  X1,X2,Y=list(),list(),list()\n",
        "  for key,desc in description.items():\n",
        "    for desc in description[key]:\n",
        "      seq = tokenizer.texts_to_sequences([desc])[0]\n",
        "      for i in range(1,len(seq)):\n",
        "        inp=seq[:i]\n",
        "        op=seq[i]\n",
        "        inp=pad_sequences([inp],maxlen=max_len)[0]\n",
        "        op=to_categorical([op],num_classes=vocab_size)[0]\n",
        "        if key in image_features.keys():\n",
        "          X1.append(image_features[key][0])\n",
        "          X2.append(inp)\n",
        "          Y.append(op)\n",
        "    count+=1\n",
        "  return np.array(X1),np.array(X2),np.array(Y)\n"
      ],
      "execution_count": 0,
      "outputs": []
    },
    {
      "cell_type": "code",
      "metadata": {
        "id": "tiWyw2n9OVVu",
        "colab_type": "code",
        "colab": {}
      },
      "source": [
        "traininp1,traininp2,trainoup=preprocess_dataset(traindescription,trainimage,max_len,tokenizer,vocab_size)"
      ],
      "execution_count": 0,
      "outputs": []
    },
    {
      "cell_type": "code",
      "metadata": {
        "id": "59oCLaiPOikA",
        "colab_type": "code",
        "colab": {}
      },
      "source": [
        "valinp1,valinp2,valoup=preprocess_dataset(valdescription,valimage,max_len,tokenizer,vocab_size)"
      ],
      "execution_count": 0,
      "outputs": []
    },
    {
      "cell_type": "code",
      "metadata": {
        "id": "KE4B7tyYOy9j",
        "colab_type": "code",
        "colab": {
          "base_uri": "https://localhost:8080/",
          "height": 34
        },
        "outputId": "152150a7-52ed-4557-fe2d-aa793196e0a1"
      },
      "source": [
        "print(traininp1.shape,traininp2.shape,trainoup.shape)"
      ],
      "execution_count": 59,
      "outputs": [
        {
          "output_type": "stream",
          "text": [
            "(61297, 4096) (61297, 34) (61297, 8766)\n"
          ],
          "name": "stdout"
        }
      ]
    },
    {
      "cell_type": "code",
      "metadata": {
        "id": "VW2rClYEO73F",
        "colab_type": "code",
        "colab": {
          "base_uri": "https://localhost:8080/",
          "height": 34
        },
        "outputId": "0ca2e96c-d109-459e-b41f-d895669c1d9c"
      },
      "source": [
        "print(valinp1.shape,valinp2.shape,valoup.shape)"
      ],
      "execution_count": 60,
      "outputs": [
        {
          "output_type": "stream",
          "text": [
            "(15494, 4096) (15494, 34) (15494, 8766)\n"
          ],
          "name": "stdout"
        }
      ]
    },
    {
      "cell_type": "code",
      "metadata": {
        "id": "_Vpo4lbzPIjl",
        "colab_type": "code",
        "colab": {}
      },
      "source": [
        "def define_model(max_length,vocab_size):\n",
        "\tinp1 = Input(shape=(4096,))\n",
        "\tim1 = Dropout(0.5)(inp1)\n",
        "\tim2 = Dense(256, activation='relu')(im1)\n",
        "\tinp2 = Input(shape=(max_length,))\n",
        "\ttx1 = Embedding(vocab_size, 256, mask_zero=True)(inp2)\n",
        "\ttx2 = Dropout(0.5)(tx1)\n",
        "\ttx3 = LSTM(256)(tx2)\n",
        "\tcomb1 = add([im2, tx3])\n",
        "\tcomb2 = Dense(256, activation='relu')(comb1)\n",
        "\toups = Dense(vocab_size, activation='softmax')(comb2)\n",
        "\tmodel = Model(inputs=[inp1, inp2], outputs=oups)\n",
        "\tmodel.compile(loss='categorical_crossentropy', optimizer='adam',metrics=['accuracy'])\n",
        "\tprint(model.summary())\n",
        "\treturn model"
      ],
      "execution_count": 0,
      "outputs": []
    },
    {
      "cell_type": "code",
      "metadata": {
        "id": "wJmoXCf3Prnu",
        "colab_type": "code",
        "colab": {
          "base_uri": "https://localhost:8080/",
          "height": 1000
        },
        "outputId": "86dd72fc-0d3d-497e-f71f-6cc3788ea6da"
      },
      "source": [
        "model = define_model(max_len,vocab_size)\n",
        "model.fit([traininp1, traininp2], trainoup, epochs=40,validation_data=([valinp1,valinp2],valoup))"
      ],
      "execution_count": 62,
      "outputs": [
        {
          "output_type": "stream",
          "text": [
            "WARNING:tensorflow:From /usr/local/lib/python3.6/dist-packages/keras/backend/tensorflow_backend.py:148: The name tf.placeholder_with_default is deprecated. Please use tf.compat.v1.placeholder_with_default instead.\n",
            "\n",
            "WARNING:tensorflow:From /usr/local/lib/python3.6/dist-packages/keras/backend/tensorflow_backend.py:3733: calling dropout (from tensorflow.python.ops.nn_ops) with keep_prob is deprecated and will be removed in a future version.\n",
            "Instructions for updating:\n",
            "Please use `rate` instead of `keep_prob`. Rate should be set to `rate = 1 - keep_prob`.\n",
            "WARNING:tensorflow:From /usr/local/lib/python3.6/dist-packages/keras/backend/tensorflow_backend.py:3239: where (from tensorflow.python.ops.array_ops) is deprecated and will be removed in a future version.\n",
            "Instructions for updating:\n",
            "Use tf.where in 2.0, which has the same broadcast rule as np.where\n",
            "WARNING:tensorflow:From /usr/local/lib/python3.6/dist-packages/keras/optimizers.py:793: The name tf.train.Optimizer is deprecated. Please use tf.compat.v1.train.Optimizer instead.\n",
            "\n",
            "WARNING:tensorflow:From /usr/local/lib/python3.6/dist-packages/keras/backend/tensorflow_backend.py:3576: The name tf.log is deprecated. Please use tf.math.log instead.\n",
            "\n",
            "Model: \"model_5\"\n",
            "__________________________________________________________________________________________________\n",
            "Layer (type)                    Output Shape         Param #     Connected to                     \n",
            "==================================================================================================\n",
            "input_6 (InputLayer)            (None, 34)           0                                            \n",
            "__________________________________________________________________________________________________\n",
            "input_5 (InputLayer)            (None, 4096)         0                                            \n",
            "__________________________________________________________________________________________________\n",
            "embedding_1 (Embedding)         (None, 34, 256)      2244096     input_6[0][0]                    \n",
            "__________________________________________________________________________________________________\n",
            "dropout_1 (Dropout)             (None, 4096)         0           input_5[0][0]                    \n",
            "__________________________________________________________________________________________________\n",
            "dropout_2 (Dropout)             (None, 34, 256)      0           embedding_1[0][0]                \n",
            "__________________________________________________________________________________________________\n",
            "dense_1 (Dense)                 (None, 256)          1048832     dropout_1[0][0]                  \n",
            "__________________________________________________________________________________________________\n",
            "lstm_1 (LSTM)                   (None, 256)          525312      dropout_2[0][0]                  \n",
            "__________________________________________________________________________________________________\n",
            "add_1 (Add)                     (None, 256)          0           dense_1[0][0]                    \n",
            "                                                                 lstm_1[0][0]                     \n",
            "__________________________________________________________________________________________________\n",
            "dense_2 (Dense)                 (None, 256)          65792       add_1[0][0]                      \n",
            "__________________________________________________________________________________________________\n",
            "dense_3 (Dense)                 (None, 8766)         2252862     dense_2[0][0]                    \n",
            "==================================================================================================\n",
            "Total params: 6,136,894\n",
            "Trainable params: 6,136,894\n",
            "Non-trainable params: 0\n",
            "__________________________________________________________________________________________________\n",
            "None\n",
            "WARNING:tensorflow:From /usr/local/lib/python3.6/dist-packages/keras/backend/tensorflow_backend.py:1033: The name tf.assign_add is deprecated. Please use tf.compat.v1.assign_add instead.\n",
            "\n",
            "WARNING:tensorflow:From /usr/local/lib/python3.6/dist-packages/keras/backend/tensorflow_backend.py:1020: The name tf.assign is deprecated. Please use tf.compat.v1.assign instead.\n",
            "\n",
            "Train on 61297 samples, validate on 15494 samples\n",
            "Epoch 1/40\n",
            "61297/61297 [==============================] - 263s 4ms/step - loss: 5.2257 - acc: 0.1676 - val_loss: 4.8261 - val_acc: 0.2036\n",
            "Epoch 2/40\n",
            "61297/61297 [==============================] - 262s 4ms/step - loss: 4.3092 - acc: 0.2349 - val_loss: 4.6308 - val_acc: 0.2322\n",
            "Epoch 3/40\n",
            "61297/61297 [==============================] - 260s 4ms/step - loss: 3.9355 - acc: 0.2631 - val_loss: 4.5552 - val_acc: 0.2418\n",
            "Epoch 4/40\n",
            "61297/61297 [==============================] - 259s 4ms/step - loss: 3.6934 - acc: 0.2803 - val_loss: 4.4802 - val_acc: 0.2548\n",
            "Epoch 5/40\n",
            "61297/61297 [==============================] - 258s 4ms/step - loss: 3.4985 - acc: 0.2942 - val_loss: 4.5343 - val_acc: 0.2573\n",
            "Epoch 6/40\n",
            "61297/61297 [==============================] - 258s 4ms/step - loss: 3.3361 - acc: 0.3076 - val_loss: 4.5553 - val_acc: 0.2613\n",
            "Epoch 7/40\n",
            "61297/61297 [==============================] - 258s 4ms/step - loss: 3.1994 - acc: 0.3185 - val_loss: 4.5570 - val_acc: 0.2600\n",
            "Epoch 8/40\n",
            "61297/61297 [==============================] - 258s 4ms/step - loss: 3.0730 - acc: 0.3293 - val_loss: 4.6067 - val_acc: 0.2585\n",
            "Epoch 9/40\n",
            "61297/61297 [==============================] - 256s 4ms/step - loss: 2.9738 - acc: 0.3384 - val_loss: 4.6354 - val_acc: 0.2619\n",
            "Epoch 10/40\n",
            "61297/61297 [==============================] - 258s 4ms/step - loss: 2.8747 - acc: 0.3502 - val_loss: 4.7196 - val_acc: 0.2620\n",
            "Epoch 11/40\n",
            "61297/61297 [==============================] - 257s 4ms/step - loss: 2.7863 - acc: 0.3592 - val_loss: 4.7528 - val_acc: 0.2606\n",
            "Epoch 12/40\n",
            "61297/61297 [==============================] - 259s 4ms/step - loss: 2.7100 - acc: 0.3684 - val_loss: 4.7895 - val_acc: 0.2607\n",
            "Epoch 13/40\n",
            "61297/61297 [==============================] - 257s 4ms/step - loss: 2.6455 - acc: 0.3751 - val_loss: 4.8311 - val_acc: 0.2557\n",
            "Epoch 14/40\n",
            "61297/61297 [==============================] - 256s 4ms/step - loss: 2.5773 - acc: 0.3844 - val_loss: 4.8699 - val_acc: 0.2558\n",
            "Epoch 15/40\n",
            " 1760/61297 [..............................] - ETA: 3:49 - loss: 2.4412 - acc: 0.4153"
          ],
          "name": "stdout"
        },
        {
          "output_type": "error",
          "ename": "KeyboardInterrupt",
          "evalue": "ignored",
          "traceback": [
            "\u001b[0;31m---------------------------------------------------------------------------\u001b[0m",
            "\u001b[0;31mKeyboardInterrupt\u001b[0m                         Traceback (most recent call last)",
            "\u001b[0;32m<ipython-input-62-9561097920df>\u001b[0m in \u001b[0;36m<module>\u001b[0;34m()\u001b[0m\n\u001b[1;32m      1\u001b[0m \u001b[0mmodel\u001b[0m \u001b[0;34m=\u001b[0m \u001b[0mdefine_model\u001b[0m\u001b[0;34m(\u001b[0m\u001b[0mmax_len\u001b[0m\u001b[0;34m,\u001b[0m\u001b[0mvocab_size\u001b[0m\u001b[0;34m)\u001b[0m\u001b[0;34m\u001b[0m\u001b[0;34m\u001b[0m\u001b[0m\n\u001b[0;32m----> 2\u001b[0;31m \u001b[0mmodel\u001b[0m\u001b[0;34m.\u001b[0m\u001b[0mfit\u001b[0m\u001b[0;34m(\u001b[0m\u001b[0;34m[\u001b[0m\u001b[0mtraininp1\u001b[0m\u001b[0;34m,\u001b[0m \u001b[0mtraininp2\u001b[0m\u001b[0;34m]\u001b[0m\u001b[0;34m,\u001b[0m \u001b[0mtrainoup\u001b[0m\u001b[0;34m,\u001b[0m \u001b[0mepochs\u001b[0m\u001b[0;34m=\u001b[0m\u001b[0;36m40\u001b[0m\u001b[0;34m,\u001b[0m\u001b[0mvalidation_data\u001b[0m\u001b[0;34m=\u001b[0m\u001b[0;34m(\u001b[0m\u001b[0;34m[\u001b[0m\u001b[0mvalinp1\u001b[0m\u001b[0;34m,\u001b[0m\u001b[0mvalinp2\u001b[0m\u001b[0;34m]\u001b[0m\u001b[0;34m,\u001b[0m\u001b[0mvaloup\u001b[0m\u001b[0;34m)\u001b[0m\u001b[0;34m)\u001b[0m\u001b[0;34m\u001b[0m\u001b[0;34m\u001b[0m\u001b[0m\n\u001b[0m",
            "\u001b[0;32m/usr/local/lib/python3.6/dist-packages/keras/engine/training.py\u001b[0m in \u001b[0;36mfit\u001b[0;34m(self, x, y, batch_size, epochs, verbose, callbacks, validation_split, validation_data, shuffle, class_weight, sample_weight, initial_epoch, steps_per_epoch, validation_steps, validation_freq, max_queue_size, workers, use_multiprocessing, **kwargs)\u001b[0m\n\u001b[1;32m   1176\u001b[0m                                         \u001b[0msteps_per_epoch\u001b[0m\u001b[0;34m=\u001b[0m\u001b[0msteps_per_epoch\u001b[0m\u001b[0;34m,\u001b[0m\u001b[0;34m\u001b[0m\u001b[0;34m\u001b[0m\u001b[0m\n\u001b[1;32m   1177\u001b[0m                                         \u001b[0mvalidation_steps\u001b[0m\u001b[0;34m=\u001b[0m\u001b[0mvalidation_steps\u001b[0m\u001b[0;34m,\u001b[0m\u001b[0;34m\u001b[0m\u001b[0;34m\u001b[0m\u001b[0m\n\u001b[0;32m-> 1178\u001b[0;31m                                         validation_freq=validation_freq)\n\u001b[0m\u001b[1;32m   1179\u001b[0m \u001b[0;34m\u001b[0m\u001b[0m\n\u001b[1;32m   1180\u001b[0m     def evaluate(self,\n",
            "\u001b[0;32m/usr/local/lib/python3.6/dist-packages/keras/engine/training_arrays.py\u001b[0m in \u001b[0;36mfit_loop\u001b[0;34m(model, fit_function, fit_inputs, out_labels, batch_size, epochs, verbose, callbacks, val_function, val_inputs, shuffle, callback_metrics, initial_epoch, steps_per_epoch, validation_steps, validation_freq)\u001b[0m\n\u001b[1;32m    202\u001b[0m                     \u001b[0mins_batch\u001b[0m\u001b[0;34m[\u001b[0m\u001b[0mi\u001b[0m\u001b[0;34m]\u001b[0m \u001b[0;34m=\u001b[0m \u001b[0mins_batch\u001b[0m\u001b[0;34m[\u001b[0m\u001b[0mi\u001b[0m\u001b[0;34m]\u001b[0m\u001b[0;34m.\u001b[0m\u001b[0mtoarray\u001b[0m\u001b[0;34m(\u001b[0m\u001b[0;34m)\u001b[0m\u001b[0;34m\u001b[0m\u001b[0;34m\u001b[0m\u001b[0m\n\u001b[1;32m    203\u001b[0m \u001b[0;34m\u001b[0m\u001b[0m\n\u001b[0;32m--> 204\u001b[0;31m                 \u001b[0mouts\u001b[0m \u001b[0;34m=\u001b[0m \u001b[0mfit_function\u001b[0m\u001b[0;34m(\u001b[0m\u001b[0mins_batch\u001b[0m\u001b[0;34m)\u001b[0m\u001b[0;34m\u001b[0m\u001b[0;34m\u001b[0m\u001b[0m\n\u001b[0m\u001b[1;32m    205\u001b[0m                 \u001b[0mouts\u001b[0m \u001b[0;34m=\u001b[0m \u001b[0mto_list\u001b[0m\u001b[0;34m(\u001b[0m\u001b[0mouts\u001b[0m\u001b[0;34m)\u001b[0m\u001b[0;34m\u001b[0m\u001b[0;34m\u001b[0m\u001b[0m\n\u001b[1;32m    206\u001b[0m                 \u001b[0;32mfor\u001b[0m \u001b[0ml\u001b[0m\u001b[0;34m,\u001b[0m \u001b[0mo\u001b[0m \u001b[0;32min\u001b[0m \u001b[0mzip\u001b[0m\u001b[0;34m(\u001b[0m\u001b[0mout_labels\u001b[0m\u001b[0;34m,\u001b[0m \u001b[0mouts\u001b[0m\u001b[0;34m)\u001b[0m\u001b[0;34m:\u001b[0m\u001b[0;34m\u001b[0m\u001b[0;34m\u001b[0m\u001b[0m\n",
            "\u001b[0;32m/usr/local/lib/python3.6/dist-packages/keras/backend/tensorflow_backend.py\u001b[0m in \u001b[0;36m__call__\u001b[0;34m(self, inputs)\u001b[0m\n\u001b[1;32m   2977\u001b[0m                     \u001b[0;32mreturn\u001b[0m \u001b[0mself\u001b[0m\u001b[0;34m.\u001b[0m\u001b[0m_legacy_call\u001b[0m\u001b[0;34m(\u001b[0m\u001b[0minputs\u001b[0m\u001b[0;34m)\u001b[0m\u001b[0;34m\u001b[0m\u001b[0;34m\u001b[0m\u001b[0m\n\u001b[1;32m   2978\u001b[0m \u001b[0;34m\u001b[0m\u001b[0m\n\u001b[0;32m-> 2979\u001b[0;31m             \u001b[0;32mreturn\u001b[0m \u001b[0mself\u001b[0m\u001b[0;34m.\u001b[0m\u001b[0m_call\u001b[0m\u001b[0;34m(\u001b[0m\u001b[0minputs\u001b[0m\u001b[0;34m)\u001b[0m\u001b[0;34m\u001b[0m\u001b[0;34m\u001b[0m\u001b[0m\n\u001b[0m\u001b[1;32m   2980\u001b[0m         \u001b[0;32melse\u001b[0m\u001b[0;34m:\u001b[0m\u001b[0;34m\u001b[0m\u001b[0;34m\u001b[0m\u001b[0m\n\u001b[1;32m   2981\u001b[0m             \u001b[0;32mif\u001b[0m \u001b[0mpy_any\u001b[0m\u001b[0;34m(\u001b[0m\u001b[0mis_tensor\u001b[0m\u001b[0;34m(\u001b[0m\u001b[0mx\u001b[0m\u001b[0;34m)\u001b[0m \u001b[0;32mfor\u001b[0m \u001b[0mx\u001b[0m \u001b[0;32min\u001b[0m \u001b[0minputs\u001b[0m\u001b[0;34m)\u001b[0m\u001b[0;34m:\u001b[0m\u001b[0;34m\u001b[0m\u001b[0;34m\u001b[0m\u001b[0m\n",
            "\u001b[0;32m/usr/local/lib/python3.6/dist-packages/keras/backend/tensorflow_backend.py\u001b[0m in \u001b[0;36m_call\u001b[0;34m(self, inputs)\u001b[0m\n\u001b[1;32m   2935\u001b[0m             \u001b[0mfetched\u001b[0m \u001b[0;34m=\u001b[0m \u001b[0mself\u001b[0m\u001b[0;34m.\u001b[0m\u001b[0m_callable_fn\u001b[0m\u001b[0;34m(\u001b[0m\u001b[0;34m*\u001b[0m\u001b[0marray_vals\u001b[0m\u001b[0;34m,\u001b[0m \u001b[0mrun_metadata\u001b[0m\u001b[0;34m=\u001b[0m\u001b[0mself\u001b[0m\u001b[0;34m.\u001b[0m\u001b[0mrun_metadata\u001b[0m\u001b[0;34m)\u001b[0m\u001b[0;34m\u001b[0m\u001b[0;34m\u001b[0m\u001b[0m\n\u001b[1;32m   2936\u001b[0m         \u001b[0;32melse\u001b[0m\u001b[0;34m:\u001b[0m\u001b[0;34m\u001b[0m\u001b[0;34m\u001b[0m\u001b[0m\n\u001b[0;32m-> 2937\u001b[0;31m             \u001b[0mfetched\u001b[0m \u001b[0;34m=\u001b[0m \u001b[0mself\u001b[0m\u001b[0;34m.\u001b[0m\u001b[0m_callable_fn\u001b[0m\u001b[0;34m(\u001b[0m\u001b[0;34m*\u001b[0m\u001b[0marray_vals\u001b[0m\u001b[0;34m)\u001b[0m\u001b[0;34m\u001b[0m\u001b[0;34m\u001b[0m\u001b[0m\n\u001b[0m\u001b[1;32m   2938\u001b[0m         \u001b[0;32mreturn\u001b[0m \u001b[0mfetched\u001b[0m\u001b[0;34m[\u001b[0m\u001b[0;34m:\u001b[0m\u001b[0mlen\u001b[0m\u001b[0;34m(\u001b[0m\u001b[0mself\u001b[0m\u001b[0;34m.\u001b[0m\u001b[0moutputs\u001b[0m\u001b[0;34m)\u001b[0m\u001b[0;34m]\u001b[0m\u001b[0;34m\u001b[0m\u001b[0;34m\u001b[0m\u001b[0m\n\u001b[1;32m   2939\u001b[0m \u001b[0;34m\u001b[0m\u001b[0m\n",
            "\u001b[0;32m/usr/local/lib/python3.6/dist-packages/tensorflow_core/python/client/session.py\u001b[0m in \u001b[0;36m__call__\u001b[0;34m(self, *args, **kwargs)\u001b[0m\n\u001b[1;32m   1470\u001b[0m         ret = tf_session.TF_SessionRunCallable(self._session._session,\n\u001b[1;32m   1471\u001b[0m                                                \u001b[0mself\u001b[0m\u001b[0;34m.\u001b[0m\u001b[0m_handle\u001b[0m\u001b[0;34m,\u001b[0m \u001b[0margs\u001b[0m\u001b[0;34m,\u001b[0m\u001b[0;34m\u001b[0m\u001b[0;34m\u001b[0m\u001b[0m\n\u001b[0;32m-> 1472\u001b[0;31m                                                run_metadata_ptr)\n\u001b[0m\u001b[1;32m   1473\u001b[0m         \u001b[0;32mif\u001b[0m \u001b[0mrun_metadata\u001b[0m\u001b[0;34m:\u001b[0m\u001b[0;34m\u001b[0m\u001b[0;34m\u001b[0m\u001b[0m\n\u001b[1;32m   1474\u001b[0m           \u001b[0mproto_data\u001b[0m \u001b[0;34m=\u001b[0m \u001b[0mtf_session\u001b[0m\u001b[0;34m.\u001b[0m\u001b[0mTF_GetBuffer\u001b[0m\u001b[0;34m(\u001b[0m\u001b[0mrun_metadata_ptr\u001b[0m\u001b[0;34m)\u001b[0m\u001b[0;34m\u001b[0m\u001b[0;34m\u001b[0m\u001b[0m\n",
            "\u001b[0;31mKeyboardInterrupt\u001b[0m: "
          ]
        }
      ]
    },
    {
      "cell_type": "code",
      "metadata": {
        "id": "FMex6MslQWfy",
        "colab_type": "code",
        "colab": {}
      },
      "source": [
        ""
      ],
      "execution_count": 0,
      "outputs": []
    },
    {
      "cell_type": "code",
      "metadata": {
        "id": "OO_6jc9XjQsj",
        "colab_type": "code",
        "colab": {
          "base_uri": "https://localhost:8080/",
          "height": 34
        },
        "outputId": "7be3edf8-d424-45a6-8e59-837fea75db4e"
      },
      "source": [
        "from google.colab import drive\n",
        "drive.mount('/content/drive')"
      ],
      "execution_count": 63,
      "outputs": [
        {
          "output_type": "stream",
          "text": [
            "Mounted at /content/drive\n"
          ],
          "name": "stdout"
        }
      ]
    },
    {
      "cell_type": "code",
      "metadata": {
        "id": "rJ1mWQY1jSiE",
        "colab_type": "code",
        "colab": {}
      },
      "source": [
        "def int_to_word(integer,tokenizer):\n",
        "  for word, index in tokenizer.word_index.items():\n",
        "    #print(index)\n",
        "    if index == integer:\n",
        "      return word\n",
        "  return None"
      ],
      "execution_count": 0,
      "outputs": []
    },
    {
      "cell_type": "code",
      "metadata": {
        "id": "ZXcvM-mhjj8Y",
        "colab_type": "code",
        "colab": {}
      },
      "source": [
        "def generate_desc(photo,tokenizer,max_length,vocab_size):\n",
        "  text='startseq'\n",
        "  for i in range(max_length):\n",
        "    seq=tokenizer.texts_to_sequences([text])[0]\n",
        "    seq=pad_sequences([seq],maxlen=max_length)\n",
        "    yhat=model.predict([photo,seq])\n",
        "    yhat=np.argmax(yhat)\n",
        "    #print(yhat)\n",
        "    word=int_to_word(yhat,tokenizer)\n",
        "    text=text + ' ' + word\n",
        "    if word is None:\n",
        "      break\n",
        "    if word=='endseq':\n",
        "      break\n",
        "    \n",
        "  return text"
      ],
      "execution_count": 0,
      "outputs": []
    },
    {
      "cell_type": "code",
      "metadata": {
        "id": "Asajc-egkI9A",
        "colab_type": "code",
        "colab": {
          "base_uri": "https://localhost:8080/",
          "height": 241
        },
        "outputId": "2ceda782-d642-458b-b125-8626eabbab4d"
      },
      "source": [
        "img=image.load_img('/content/drive/My Drive/IMG-20191013-WA0004.jpg',target_size=(224,224))\n",
        "img"
      ],
      "execution_count": 79,
      "outputs": [
        {
          "output_type": "execute_result",
          "data": {
            "image/png": "[encoded data removed]",
            "text/plain": [
              "<PIL.Image.Image image mode=RGB size=224x224 at 0x7F6441E87B70>"
            ]
          },
          "metadata": {
            "tags": []
          },
          "execution_count": 79
        }
      ]
    },
    {
      "cell_type": "code",
      "metadata": {
        "id": "2dZSVpnGkNQJ",
        "colab_type": "code",
        "colab": {}
      },
      "source": [
        "feature=feature_extractor('/content/drive/My Drive/IMG-20191013-WA0004.jpg',vggmodel)"
      ],
      "execution_count": 0,
      "outputs": []
    },
    {
      "cell_type": "code",
      "metadata": {
        "id": "3vAEJ4E7kbG2",
        "colab_type": "code",
        "colab": {}
      },
      "source": [
        "text=generate_desc(feature,tokenizer,max_len,vocab_size)"
      ],
      "execution_count": 0,
      "outputs": []
    },
    {
      "cell_type": "code",
      "metadata": {
        "id": "Uq61wo3akebC",
        "colab_type": "code",
        "colab": {
          "base_uri": "https://localhost:8080/",
          "height": 34
        },
        "outputId": "53480b1f-74d3-4634-f5c5-59e5be4cc648"
      },
      "source": [
        "text"
      ],
      "execution_count": 82,
      "outputs": [
        {
          "output_type": "execute_result",
          "data": {
            "text/plain": [
              "'startseq two men are walking towards the camera endseq'"
            ]
          },
          "metadata": {
            "tags": []
          },
          "execution_count": 82
        }
      ]
    },
    {
      "cell_type": "code",
      "metadata": {
        "id": "3itFqfeYkgmk",
        "colab_type": "code",
        "colab": {}
      },
      "source": [
        ""
      ],
      "execution_count": 0,
      "outputs": []
    }
  ]
}